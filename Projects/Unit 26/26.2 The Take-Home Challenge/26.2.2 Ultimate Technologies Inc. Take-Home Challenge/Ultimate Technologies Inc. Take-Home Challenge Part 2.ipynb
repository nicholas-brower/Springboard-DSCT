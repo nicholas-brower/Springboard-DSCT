{
 "cells": [
  {
   "cell_type": "markdown",
   "id": "dd07f322",
   "metadata": {},
   "source": [
    "Nicholas Brower<br>\n",
    "Springboard DSCT \\[May 2022\\]<br>\n",
    "Unit 26.2.2 (Part 2)<br>"
   ]
  },
  {
   "cell_type": "markdown",
   "id": "a4c0d69e",
   "metadata": {},
   "source": [
    "# Ultimate Technologies Inc. Take-Home Challenge<br>\n",
    "## Part 2: Experiment and metrics design <br>"
   ]
  },
  {
   "cell_type": "markdown",
   "id": "a23dc5d2",
   "metadata": {},
   "source": [
    "<div style='background-color:rgb(230,230,240);padding:10px;'><h3>Premise</h3></div><br>\n",
    "    <br>\n",
    "Gotham and Metropolis are neighboring cities. These cities have distinct daily and weekly usage cycles for services offered by Ultimate Technologies Incorporated, a transportation network company. On weekdays, Gotham is most active at night, and Metropolis is most active during the day. On weekends, the two cities are comparably active.<br><br>\n",
    "A toll bridge connects Gotham and Metropolis; a fee is charged in both directions. Ultimate Technologies Inc. driver partners tend to be exclusive to either Gotham or Metropolis because of this toll. To encourage driver partners to extend their availability to both cities, managers of city operations for Ultimate Gotham and Ultimate Metropolis have proposed an experiment in which drivers will be reimbursed for all toll costs."
   ]
  },
  {
   "cell_type": "markdown",
   "id": "0c494c02",
   "metadata": {},
   "source": [
    "<div style='background-color:rgb(230,230,240);padding:10px;'>\n",
    "<h3>1</h3><br>\n",
    "What would you choose as the key measure of success of this experiment in\n",
    "encouraging driver partners to serve both cities, and why would you choose this metric?</div><br><br>\n",
    "The dataset provided for part 1 of this assignment is restricted to unmarked, uncategorized timestamps. There is no information on drivers, users, locations, or other features. Are drivers exclusive to either city on weekdends while serving one or the other depending on the time of day during the week? Do drivers tend to serve exclusively one city and not the other? How is a driver partner's availability implemented in this service? Without additional features, metadata, or other information, it would not be possible to evaluate the impact of toll reimbursement on driver partner availability. The remainder of this response assumes it is possible to collect and analyze additional data.<br><br>\n",
    "The prompt for this assignment does not explain why city operations managers of Ultimate Technologies Incorporated are interested in encouraging driver partners to extend their availability to both cities. There are many plausible explanations for such interest. Effective selection of success metrics for an experiment is not possible without a better-developed understanding of Ultimate Technologies, its business model, its interactions and incentives with various government agencies, its relationships with customers and competitors, and its specific motivation to influence the exclusivity of driver partner availability to Gotham or Metropolis. If Ultimate Technologies Incorporated is a for-profit corporation, it would be reasonable to suspect driver partner availability is related to profitability, but it would not be safe to assume specifically how. If Ultimate is a nonprofit corporation, there are many more possible reasons to conduct an experiment as described in this assignment's prompt. There is no text related to this assignment that specifies or implies what kind of company Ultimate is. It is only \"a transportation network company that has disrupted the taxi and logistics industry and is considered a prestigious company to work for\".<br><br>\n",
    "The single explicitly expressed purpose of this experiment is \"to encourage driver partners to be available in both cities\". Therefore, the key measure of sucess of this experiment would be the relative change in the number of driver partners available in both cities. The experiment may be considered a success if this portion increases significantly when reimbursing drivers for toll costs. This metric is chosen, because it is the only reason given for the experiment. Any other metrics necessitate inappropriate assumptions about the nature of Ultimate Technologies Inc. as a company or the mechanisms connecting driver partner availability with the company's unclear goals."
   ]
  },
  {
   "cell_type": "markdown",
   "id": "1eee228b",
   "metadata": {},
   "source": [
    "<div style='background-color:rgb(230,230,240);padding:10px;'>\n",
    "    <h3>2</h3><br>\n",
    "Describe a practical experiment you would design to compare the effectiveness of the proposed change in relation to the key measure of success. Please provide details on:<br><br>\n",
    "<span style='display: inline-block;padding-left:5%'>\n",
    "a) how you will implement the experiment<br><br>\n",
    "b) what statistical test(s) you will conduct to verify the significance of the observation<br><br>\n",
    "c) how you would interpret the results and provide recommendations to the city\n",
    "operations team along with any caveats<br><br>\n",
    "</span>\n",
    "</div>\n",
    "<br><b>a)</b><br><br>\n",
    "This section describes an experiment to assess the impact of toll reimbursement on driver partner availability in both Gotham and Metropolis. This experiment relies on the availability of driver partner data collected for each availabilty instance. This data must include when a driver becomes available, the city or cities in which they are available, and when a driver becomes unavailable.<br><br>\n",
    "Driver partners are randomly divided into test and control groups. Sampling may be stratified depending on the nature of driver partner availability. If there are drivers that exclusively serve either city, half of each subset of city-exclusive drivers is selected at random and added to the test group. The remainder of each city-exclusive subset is added to the control group. If there are drivers that sometimes serve either or both cities, they are similarly selected and added to the test and control groups. If some driver partners are only available on weekdays or weekends, each aforementioned subset may be subdivided and randomly sampled in the same fashion, such that all driver partner availability types are represented equally in the test and control groups. Additional information would be necessary in order to best assign drivers to control and test groups. <br><br>\n",
    "The test group is informed they will be reimbursed for all tolls. The control group is not.<br><br>\n",
    "Initial statistics are calculated using existing data. The tendency of a driver partner to maintain availability to both cities is determined. The total amount of time a driver is available to both cities is divided by the total amount of time a driver is available. Central tendency statistics for the test and control groups are calculated, yielding ratios of driver availability to both cities at equal weight per driver. The variance within each group may be compared with the difference in central tendencies of the two groups.\n",
    "<br><br>\n",
    "Following a set length of time, statistics for the duration of the experiment may be calculated. The change in driver availability of the test group may be compared to that of the control group. Again, the variance within each group may be compared with the difference in central tendencies of the two groups.<br><br>\n",
    "<br><b>b)</b><br><br>\n",
    "The selection of an appropriate statistical test is entirely dependent on the pre-existing driver availability distribution(s). It is not possible to appropriately select a specific test without additional information. Given a null hypothesis that reimbursing drivers has no effect on driver partner availability to both cities, a one-tailed test may be used. Bootstrapping and other techniques may be employed depending on sample size. If the change in central tendency of the availability of the test group exceeds a significance threshold from the change in central tendency of the control group, the null hypothesis may be rejected with a confidence level based on the significance threshold.<br><br>\n",
    "<br><b>c)</b><br><br>\n",
    "My interpretation of the reults of this experiment would depend entirely on unprovided information. If the goal is to increase driver availability in both cities regardless of cost, I would recommend reimbursing drivers for tolls if the test group was more available to both cities than the control group. If the immediate profitability of toll reimbursement is of interest, it would be trivial to calculate whether implementing such a policy would pay off. In that case, my recommendations for or against toll reimbursement would follow specifically that calculation. It may be useful to analyze the impact of toll reimbursement on driver availability or profitability specifically on weekdays and weekends. Analyzing the collected data in these terms would inform additional recommendations and caveats."
   ]
  }
 ],
 "metadata": {
  "kernelspec": {
   "display_name": "Python 3 (ipykernel)",
   "language": "python",
   "name": "python3"
  },
  "language_info": {
   "codemirror_mode": {
    "name": "ipython",
    "version": 3
   },
   "file_extension": ".py",
   "mimetype": "text/x-python",
   "name": "python",
   "nbconvert_exporter": "python",
   "pygments_lexer": "ipython3",
   "version": "3.10.8"
  }
 },
 "nbformat": 4,
 "nbformat_minor": 5
}
