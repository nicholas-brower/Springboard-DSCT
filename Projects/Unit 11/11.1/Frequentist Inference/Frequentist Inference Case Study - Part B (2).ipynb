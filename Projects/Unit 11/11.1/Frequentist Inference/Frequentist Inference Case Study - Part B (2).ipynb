{
 "cells": [
  {
   "cell_type": "markdown",
   "metadata": {},
   "source": [
    "# Frequentist Inference Case Study - Part B"
   ]
  },
  {
   "cell_type": "markdown",
   "metadata": {},
   "source": [
    "## Learning objectives"
   ]
  },
  {
   "cell_type": "markdown",
   "metadata": {},
   "source": [
    "Welcome to Part B of the Frequentist inference case study! The purpose of this case study is to help you apply the concepts associated with Frequentist inference in Python. In particular, you'll practice writing Python code to apply the following statistical concepts: \n",
    "* the _z_-statistic\n",
    "* the _t_-statistic\n",
    "* the difference and relationship between the two\n",
    "* the Central Limit Theorem, including its assumptions and consequences\n",
    "* how to estimate the population mean and standard deviation from a sample\n",
    "* the concept of a sampling distribution of a test statistic, particularly for the mean\n",
    "* how to combine these concepts to calculate a confidence interval"
   ]
  },
  {
   "cell_type": "markdown",
   "metadata": {},
   "source": [
    "In the previous notebook, we used only data from a known normal distribution. **You'll now tackle real data, rather than simulated data, and answer some relevant real-world business problems using the data.**"
   ]
  },
  {
   "cell_type": "markdown",
   "metadata": {},
   "source": [
    "## Hospital medical charges"
   ]
  },
  {
   "cell_type": "markdown",
   "metadata": {},
   "source": [
    "Imagine that a hospital has hired you as their data scientist. An administrator is working on the hospital's business operations plan and needs you to help them answer some business questions. \n",
    "\n",
    "In this assignment notebook, you're going to use frequentist statistical inference on a data sample to answer the questions:\n",
    "* has the hospital's revenue stream fallen below a key threshold?\n",
    "* are patients with insurance really charged different amounts than those without?\n",
    "\n",
    "Answering that last question with a frequentist approach makes some assumptions, and requires some knowledge, about the two groups."
   ]
  },
  {
   "cell_type": "markdown",
   "metadata": {},
   "source": [
    "We are going to use some data on medical charges obtained from [Kaggle](https://www.kaggle.com/easonlai/sample-insurance-claim-prediction-dataset). \n",
    "\n",
    "For the purposes of this exercise, assume the observations are the result of random sampling from our single hospital. Recall that in the previous assignment, we introduced the Central Limit Theorem (CLT), and its consequence that the distributions of sample statistics approach a normal distribution as $n$ increases. The amazing thing about this is that it applies to the sampling distributions of statistics that have been calculated from even highly non-normal distributions of data! Recall, also, that hypothesis testing is very much based on making inferences about such sample statistics. You're going to rely heavily on the CLT to apply frequentist (parametric) tests to answer the questions in this notebook."
   ]
  },
  {
   "cell_type": "code",
   "execution_count": 1,
   "metadata": {},
   "outputs": [],
   "source": [
    "import numpy as np\n",
    "import pandas as pd\n",
    "from scipy.stats import t\n",
    "from scipy.stats import ttest_ind\n",
    "import matplotlib.pyplot as plt\n",
    "from matplotlib.patches import Rectangle"
   ]
  },
  {
   "cell_type": "code",
   "execution_count": 2,
   "metadata": {},
   "outputs": [],
   "source": [
    "medical = pd.read_csv('data/raw/insurance2.csv')"
   ]
  },
  {
   "cell_type": "code",
   "execution_count": 3,
   "metadata": {},
   "outputs": [],
   "source": [
    "plt_elements = ['#9C9FA6', '#95A68D', '#735953']\n",
    "plt_highlights = ['#0D0D0D', '#F2D857', '#9AAAC4']\n",
    "colors = {'el': plt_elements, 'hl': plt_highlights}"
   ]
  },
  {
   "cell_type": "code",
   "execution_count": 4,
   "metadata": {},
   "outputs": [],
   "source": [
    "def print_floats(label_val_dict: dict[str:float], title:str = '') -> None:\n",
    "    print(f'{title}:\\n{79*\"_\"}')\n",
    "    label_col_width = 5 + max([len(label) for label in label_val_dict.keys()])\n",
    "    val_digits = 3 + max([\n",
    "        len(f'{v}'[:f'{v}'.index('.')]) for v in label_val_dict.values()\n",
    "    ])\n",
    "    for label, value in label_val_dict.items():\n",
    "        label = f'{label}:'.ljust(label_col_width)\n",
    "        value = f'{value:.3f}'.split('.')\n",
    "        value = '.'.join([value[0].rjust(val_digits), value[1]])\n",
    "        print('|'.join([label, value]))\n",
    "    print(f'\\n{79*\"-\"}\\n')"
   ]
  },
  {
   "cell_type": "code",
   "execution_count": 5,
   "metadata": {},
   "outputs": [
    {
     "data": {
      "text/plain": [
       "(1338, 8)"
      ]
     },
     "execution_count": 5,
     "metadata": {},
     "output_type": "execute_result"
    }
   ],
   "source": [
    "medical.shape"
   ]
  },
  {
   "cell_type": "code",
   "execution_count": 6,
   "metadata": {},
   "outputs": [
    {
     "data": {
      "text/html": [
       "<div>\n",
       "<style scoped>\n",
       "    .dataframe tbody tr th:only-of-type {\n",
       "        vertical-align: middle;\n",
       "    }\n",
       "\n",
       "    .dataframe tbody tr th {\n",
       "        vertical-align: top;\n",
       "    }\n",
       "\n",
       "    .dataframe thead th {\n",
       "        text-align: right;\n",
       "    }\n",
       "</style>\n",
       "<table border=\"1\" class=\"dataframe\">\n",
       "  <thead>\n",
       "    <tr style=\"text-align: right;\">\n",
       "      <th></th>\n",
       "      <th>age</th>\n",
       "      <th>sex</th>\n",
       "      <th>bmi</th>\n",
       "      <th>children</th>\n",
       "      <th>smoker</th>\n",
       "      <th>region</th>\n",
       "      <th>charges</th>\n",
       "      <th>insuranceclaim</th>\n",
       "    </tr>\n",
       "  </thead>\n",
       "  <tbody>\n",
       "    <tr>\n",
       "      <th>0</th>\n",
       "      <td>19</td>\n",
       "      <td>0</td>\n",
       "      <td>27.900</td>\n",
       "      <td>0</td>\n",
       "      <td>1</td>\n",
       "      <td>3</td>\n",
       "      <td>16884.92400</td>\n",
       "      <td>1</td>\n",
       "    </tr>\n",
       "    <tr>\n",
       "      <th>1</th>\n",
       "      <td>18</td>\n",
       "      <td>1</td>\n",
       "      <td>33.770</td>\n",
       "      <td>1</td>\n",
       "      <td>0</td>\n",
       "      <td>2</td>\n",
       "      <td>1725.55230</td>\n",
       "      <td>1</td>\n",
       "    </tr>\n",
       "    <tr>\n",
       "      <th>2</th>\n",
       "      <td>28</td>\n",
       "      <td>1</td>\n",
       "      <td>33.000</td>\n",
       "      <td>3</td>\n",
       "      <td>0</td>\n",
       "      <td>2</td>\n",
       "      <td>4449.46200</td>\n",
       "      <td>0</td>\n",
       "    </tr>\n",
       "    <tr>\n",
       "      <th>3</th>\n",
       "      <td>33</td>\n",
       "      <td>1</td>\n",
       "      <td>22.705</td>\n",
       "      <td>0</td>\n",
       "      <td>0</td>\n",
       "      <td>1</td>\n",
       "      <td>21984.47061</td>\n",
       "      <td>0</td>\n",
       "    </tr>\n",
       "    <tr>\n",
       "      <th>4</th>\n",
       "      <td>32</td>\n",
       "      <td>1</td>\n",
       "      <td>28.880</td>\n",
       "      <td>0</td>\n",
       "      <td>0</td>\n",
       "      <td>1</td>\n",
       "      <td>3866.85520</td>\n",
       "      <td>1</td>\n",
       "    </tr>\n",
       "  </tbody>\n",
       "</table>\n",
       "</div>"
      ],
      "text/plain": [
       "   age  sex     bmi  children  smoker  region      charges  insuranceclaim\n",
       "0   19    0  27.900         0       1       3  16884.92400               1\n",
       "1   18    1  33.770         1       0       2   1725.55230               1\n",
       "2   28    1  33.000         3       0       2   4449.46200               0\n",
       "3   33    1  22.705         0       0       1  21984.47061               0\n",
       "4   32    1  28.880         0       0       1   3866.85520               1"
      ]
     },
     "execution_count": 6,
     "metadata": {},
     "output_type": "execute_result"
    }
   ],
   "source": [
    "medical.head()"
   ]
  },
  {
   "cell_type": "markdown",
   "metadata": {},
   "source": [
    "__Q1:__ Plot the histogram of charges and calculate the mean and standard deviation. Comment on the appropriateness of these statistics for the data."
   ]
  },
  {
   "cell_type": "markdown",
   "metadata": {},
   "source": [
    "__A:__"
   ]
  },
  {
   "cell_type": "markdown",
   "metadata": {},
   "source": [
    "The provided data is likely sufficient to determine whether average charges have fallen below a business-relevant critical threshold. As indicated in the histogram below, this sample is not normally distributed. Therefore, the sample mean and sample standard deviation do not usefully describe this sample's distribution. The administrator is only interested in the relationship between a critical value and the population mean. Without information on the nature of the population from which this sample was drawn, I cannot comment on whether this sample is truly random, independent, or representative of the population. Assuming the sample is random, the sample size is less than 10% of the population size, and the sample variance is representative of the population variance, the sample mean should offer a useful approximation of the population mean within a range calculated later in this notebook. A t-test will facilitate the comparison of an estimated population mean with the critical threshold.\n",
    "<br><br>\n",
    "The provided data is decidedly insufficient to answer whether individuals without insurance are charged differently than individuals with insurance. Among other serious concerns, there is no information on what procedures are performed on, or what goods or services were provided to, the patients in this dataset. It is not possible to make like comparisons. This alone is enough to invalidate most conclusions one might attempt to draw from this dataset. When a patient's treatment may follow more than one particular course, the selection of treatment methods likely depends, at least in part, on a patient's insurance plan or lack thereof. Further, I imagine insured patient charges will have significantly higher variance. Insured patients are more likely to have routine checkups, and insured patients are more likely to agree to prohibitively expensive (to those without insurance) treatment options or procedures.\n",
    "<br><br>\n",
    "Excepting other issues, Welch's t-test may offer more accurate insight than the standard 2 sample t-test used below. In any case, without additional data, it is difficult to imagine arriving at any genuinely useful assessment of the relationship between hospital charges and a patient's insurance status. Any conclusions drawn to that end are strictly academic."
   ]
  },
  {
   "cell_type": "code",
   "execution_count": 7,
   "metadata": {},
   "outputs": [],
   "source": [
    "charges_mean = np.mean(medical.charges)\n",
    "charges_std = np.std(medical.charges, ddof=1)"
   ]
  },
  {
   "cell_type": "code",
   "execution_count": 8,
   "metadata": {
    "scrolled": false
   },
   "outputs": [
    {
     "data": {
      "image/png": "[encoded data removed]",
      "text/plain": [
       "<Figure size 864x432 with 1 Axes>"
      ]
     },
     "metadata": {
      "needs_background": "light"
     },
     "output_type": "display_data"
    },
    {
     "name": "stdout",
     "output_type": "stream",
     "text": [
      "medical charges statistics:\n",
      "_______________________________________________________________________________\n",
      "mean:                  |   13270.422\n",
      "standard deviation:    |   12110.011\n",
      "\n",
      "-------------------------------------------------------------------------------\n",
      "\n"
     ]
    }
   ],
   "source": [
    "fig, ax = plt.subplots(figsize=(12,6))\n",
    "_ = ax.axvline(\n",
    "    charges_mean, lw=3, color='black', zorder=1, \n",
    "    label=f'Sample mean ≈ {charges_mean:.2f}', alpha=0.5,\n",
    "    linestyle=':'\n",
    ")\n",
    "for multiple, style in [(1, '--'), (2, ':')]:\n",
    "    dx = multiple * charges_std\n",
    "    for y in (charges_mean + dx,):\n",
    "        _ = ax.axvline(\n",
    "            y, linestyle = style, color=colors['hl'][multiple],\n",
    "            label=f'+{multiple} standard deviation{(multiple - 1) * \"s\"}',\n",
    "            zorder=0\n",
    "        )\n",
    "_ = ax.hist(medical.charges, color=colors['el'][1], bins=17, zorder=1)\n",
    "_ = ax.set_xlim(0)\n",
    "_ = plt.legend()\n",
    "_ = plt.title('Distribution of Charges')\n",
    "_ = plt.xlabel('Total charges')\n",
    "_ = plt.ylabel('Number of patients')\n",
    "plt.show()\n",
    "print_floats(\n",
    "    {'mean':charges_mean, 'standard deviation':charges_std},\n",
    "    'medical charges statistics'\n",
    ")"
   ]
  },
  {
   "cell_type": "code",
   "execution_count": 9,
   "metadata": {},
   "outputs": [],
   "source": [
    "is_insured = medical.insuranceclaim==1\n",
    "insured_charges = medical[is_insured].charges\n",
    "uninsured_charges = medical[~is_insured].charges\n",
    "insured_mean, uninsured_mean = map(\n",
    "    np.mean, [insured_charges, uninsured_charges]\n",
    ")\n",
    "insured_std, uninsured_std = map(\n",
    "    lambda data: np.std(data, ddof=1),\n",
    "    [insured_charges, uninsured_charges]\n",
    ")"
   ]
  },
  {
   "cell_type": "code",
   "execution_count": 10,
   "metadata": {},
   "outputs": [
    {
     "data": {
      "image/png": "[encoded data removed]",
      "text/plain": [
       "<Figure size 864x864 with 2 Axes>"
      ]
     },
     "metadata": {
      "needs_background": "light"
     },
     "output_type": "display_data"
    },
    {
     "name": "stdout",
     "output_type": "stream",
     "text": [
      "Insured Patients:\n",
      "_______________________________________________________________________________\n",
      "sample mean:             |   16423.928\n",
      "sample std deviation:    |   14045.928\n",
      "\n",
      "-------------------------------------------------------------------------------\n",
      "\n",
      "Uninsured Patients:\n",
      "_______________________________________________________________________________\n",
      "sample mean:             |   8821.422\n",
      "sample std deviation:    |   6446.510\n",
      "\n",
      "-------------------------------------------------------------------------------\n",
      "\n"
     ]
    }
   ],
   "source": [
    "fig, ax = plt.subplots(2, figsize=(12, 12))\n",
    "bins = [i/41 * 70000 for i in range(42)]\n",
    "_ = fig.suptitle('Distribution of Charges: Insured vs Uninsured Patients')\n",
    "for subplot_ax, title, data, color in [\n",
    "        (ax[0], 'Insured Patients', insured_charges, colors['el'][0]),\n",
    "        (ax[1], 'Uninsured Patients', uninsured_charges, colors['el'][1])\n",
    "]:\n",
    "    _ = subplot_ax.hist(data, color=color, bins=bins, zorder=2)\n",
    "    _ = subplot_ax.set_title(title)\n",
    "    _ = subplot_ax.set_xlabel('Amount charged')\n",
    "    _ = subplot_ax.set_ylabel('Number of patients')\n",
    "    _ = subplot_ax.axvline(\n",
    "        data.mean(), color=colors['el'][2], lw=3, linestyle=':', \n",
    "        label='Sample mean', zorder=3, alpha=0.9\n",
    "    )\n",
    "    std = np.std(data, ddof=1)\n",
    "    _ = subplot_ax.add_patch(\n",
    "        Rectangle(\n",
    "            [data.mean() -std, 0], 2 * std, 150, facecolor='#E6E6E6', \n",
    "            label='Sample std deviation', zorder=0\n",
    "        )\n",
    "    )\n",
    "    _ = subplot_ax.set_xlim(0, 70000)\n",
    "    _ = subplot_ax.set_ylim(0, 110)\n",
    "    _ = subplot_ax.legend()\n",
    "plt.show()\n",
    "for title, data in [\n",
    "        ('Insured Patients', insured_charges), \n",
    "        ('Uninsured Patients', uninsured_charges)\n",
    "    ]:\n",
    "    aggs = {\n",
    "        'sample mean': data.mean(), 'sample std deviation': np.std(data, ddof=1)\n",
    "    }\n",
    "    print_floats(aggs, title)"
   ]
  },
  {
   "cell_type": "markdown",
   "metadata": {},
   "source": [
    "__Q2:__ The administrator is concerned that the actual average charge has fallen below 12,000, threatening the hospital's operational model. On the assumption that these data represent a random sample of charges, how would you justify that these data allow you to answer that question? And what would be the most appropriate frequentist test, of the ones discussed so far, to apply?"
   ]
  },
  {
   "cell_type": "markdown",
   "metadata": {},
   "source": [
    "__A:__"
   ]
  },
  {
   "cell_type": "markdown",
   "metadata": {},
   "source": [
    "Assuming this is a random, representative, and independent sample, I would argue that the central limit theorem provides an adequate foundation for the use of this data to address the administrator's concern. Of the frequentist tests discussed so far, a one-sample, single-tail t test is most appropriate."
   ]
  },
  {
   "cell_type": "markdown",
   "metadata": {},
   "source": [
    "__Q3:__ Given the nature of the administrator's concern, what is the appropriate confidence interval in this case? A ***one-sided*** or ***two-sided*** interval? (Refresh your understanding of this concept on p. 399 of the *AoS*). Calculate the critical value and the relevant 95% confidence interval for the mean, and comment on whether the administrator should be concerned."
   ]
  },
  {
   "cell_type": "markdown",
   "metadata": {},
   "source": [
    "__A:__"
   ]
  },
  {
   "cell_type": "markdown",
   "metadata": {},
   "source": [
    "Given the nature of the administrator's concern, the appropriate confidence interval is one-sided. The administrator aims to determine the relationship between the population mean charge and the <span>$</span>12,000 critical threshold presented in Q2. They are specifically concerned that the average patient's total charge has fallen below the critical threshold."
   ]
  },
  {
   "cell_type": "code",
   "execution_count": 11,
   "metadata": {},
   "outputs": [
    {
     "name": "stdout",
     "output_type": "stream",
     "text": [
      "critical t value: -1.6459941145571317\n"
     ]
    }
   ],
   "source": [
    "mean_charge_threshold = 12000\n",
    "sample_n = len(medical)\n",
    "df = sample_n - 1\n",
    "confidence_interval = 0.95\n",
    "tail_prob = 1 - 0.95\n",
    "critical_t = t.ppf(tail_prob, df)\n",
    "print(f'critical t value: {critical_t}')"
   ]
  },
  {
   "cell_type": "code",
   "execution_count": 12,
   "metadata": {},
   "outputs": [
    {
     "name": "stdout",
     "output_type": "stream",
     "text": [
      "mean margin of error ≈ -544.94\n"
     ]
    }
   ],
   "source": [
    "charges_mean_moe = critical_t * charges_std / np.sqrt(len(medical))\n",
    "print(f'mean margin of error ≈ {charges_mean_moe:,.2f}')"
   ]
  },
  {
   "cell_type": "code",
   "execution_count": 13,
   "metadata": {},
   "outputs": [
    {
     "name": "stdout",
     "output_type": "stream",
     "text": [
      "95% confidence interval - single tail \n",
      "lower bound ≈ $ 12,725.49\n",
      "\n"
     ]
    }
   ],
   "source": [
    "ci = [charges_mean + charges_mean_moe, charges_mean]\n",
    "print(\n",
    "    f'95% confidence interval - single tail \\n'\n",
    "    + f'lower bound ≈ $ {ci[0]:,.2f}\\n'\n",
    ")"
   ]
  },
  {
   "cell_type": "code",
   "execution_count": 14,
   "metadata": {},
   "outputs": [
    {
     "data": {
      "image/png": "[encoded data removed]",
      "text/plain": [
       "<Figure size 864x432 with 1 Axes>"
      ]
     },
     "metadata": {
      "needs_background": "light"
     },
     "output_type": "display_data"
    },
    {
     "data": {
      "image/png": "[encoded data removed]",
      "text/plain": [
       "<Figure size 432x72 with 1 Axes>"
      ]
     },
     "metadata": {
      "needs_background": "light"
     },
     "output_type": "display_data"
    }
   ],
   "source": [
    "fig, ax = plt.subplots(figsize=(12, 6))\n",
    "_ = ax.axvline(\n",
    "    12000, color='r', ls=':', lw=4, label='Critical threshold',\n",
    "    zorder=1\n",
    ")\n",
    "_ = ax.axvline(\n",
    "    ci[0], color=colors['el'][2], ls=':', lw=4, \n",
    "    label='Confidence interval of mean:\\nlower bound', zorder=1\n",
    ")\n",
    "ax.hist(\n",
    "    medical.charges, bins=84, zorder=0, color=colors['el'][0], \n",
    "    label='Patient charges distribution \\n(zoomed from below)', alpha=0.7\n",
    ")\n",
    "_ = ax.set_ylim(0)\n",
    "_ = ax.set_xlim(1100, 15000)\n",
    "_ = ax.legend(loc='lower left', bbox_to_anchor=(0.05, 0.08))\n",
    "_ = ax.set_xlabel('Total charges')\n",
    "_ = ax.set_ylabel('Number of patients')\n",
    "_ = ax.set_xticks((2000, 4000, 6000, 8000, 10000, 12000, ci[0], 14000))\n",
    "_ = ax.set_title(\n",
    "    'Patient Charges: Lower Bound of Population Mean '\n",
    "    + 'Estimate vs Critical Threshold'\n",
    ")\n",
    "plt.show();\n",
    "fig, ax = plt.subplots(figsize=(6, 1))\n",
    "_ = ax.set_facecolor('#f0f0f0')\n",
    "_ = ax.hist(medical.charges, bins=84, color=colors['el'][0], alpha=0.7)\n",
    "_ = ax.axvline(12000, color='r', ls=':', lw=2, zorder=1)\n",
    "_ = ax.axvline(ci[0], color=colors['el'][2], ls=':', lw=2, zorder=1)\n",
    "_ = ax.set_xticks((1100, 15000, 60000))\n",
    "_ = ax.set_yticks(range(0, 81, 10))\n",
    "_ = ax.set_yticklabels(['0'] + ['' for _ in range(7)] + ['80'])\n",
    "_ = ax.add_patch(Rectangle(\n",
    "    [1100, 0], 15000-1100, 90, facecolor='white', zorder=0\n",
    "))\n",
    "_ = ax.set_ylabel(' ')\n",
    "plt.show();"
   ]
  },
  {
   "cell_type": "markdown",
   "metadata": {},
   "source": [
    "The administrator then wants to know whether people with insurance really are charged a different amount to those without.\n",
    "\n",
    "__Q4:__ State the null and alternative hypothesis here. Use the _t_-test for the difference between means, where the pooled standard deviation of the two groups is given by:\n",
    "\\begin{equation}\n",
    "s_p = \\sqrt{\\frac{(n_0 - 1)s^2_0 + (n_1 - 1)s^2_1}{n_0 + n_1 - 2}}\n",
    "\\end{equation}\n",
    "\n",
    "and the *t*-test statistic is then given by:\n",
    "\n",
    "\\begin{equation}\n",
    "t = \\frac{\\bar{x}_0 - \\bar{x}_1}{s_p \\sqrt{1/n_0 + 1/n_1}}.\n",
    "\\end{equation}\n",
    "\n",
    "(If you need some reminding of the general definition of ***t-statistic***, check out the definition on p. 404 of *AoS*). \n",
    "\n",
    "What assumption about the variances of the two groups are we making here?"
   ]
  },
  {
   "cell_type": "markdown",
   "metadata": {},
   "source": [
    "__A:__"
   ]
  },
  {
   "cell_type": "markdown",
   "metadata": {},
   "source": [
    "The null hypothesis is that the average charge of individuals without insurance is not significantly different than that of indivudals with insurance.\n",
    "The alternative hypothesis is that individuals without insurance are, on average, charged more or charged less than indivudals with insurance. <br><br>\n",
    "The sample variance of the two groups in question is assumed to be representative of the population variances of these groups. Given the calculations presented in Q4, this exercise also assumes that the two groups have equal variance. The relevant test is a two-sample t test."
   ]
  },
  {
   "cell_type": "markdown",
   "metadata": {},
   "source": [
    "__Q5:__ Perform this hypothesis test both manually, using the above formulae, and then using the appropriate function from [scipy.stats](https://docs.scipy.org/doc/scipy/reference/stats.html#statistical-tests) (hint, you're looking for a function to perform a _t_-test on two independent samples). For the manual approach, calculate the value of the test statistic and then its probability (the p-value). Verify you get the same results from both."
   ]
  },
  {
   "cell_type": "markdown",
   "metadata": {},
   "source": [
    "__A:__ "
   ]
  },
  {
   "cell_type": "markdown",
   "metadata": {},
   "source": [
    "Perform hypothesis test manually."
   ]
  },
  {
   "cell_type": "code",
   "execution_count": 15,
   "metadata": {},
   "outputs": [
    {
     "name": "stdout",
     "output_type": "stream",
     "text": [
      "pooled standard deviation: 11520.034268775256\n"
     ]
    }
   ],
   "source": [
    "s_std = lambda sample: np.std(sample, ddof=1)\n",
    "\n",
    "i_u = (insured_charges, uninsured_charges)\n",
    "n_i, n_u = map(len, i_u)\n",
    "s_i, s_u = map(s_std, i_u)\n",
    "x_i, x_u = map(np.mean, i_u)\n",
    "\n",
    "pooled_std = np.sqrt(\n",
    "    ((n_i - 1)*s_i**2 + (n_u - 1)*s_u**2)\n",
    "    /\n",
    "    (n_i + n_u - 2)\n",
    ")\n",
    "print(f'pooled standard deviation: {pooled_std}')"
   ]
  },
  {
   "cell_type": "code",
   "execution_count": 16,
   "metadata": {},
   "outputs": [
    {
     "name": "stdout",
     "output_type": "stream",
     "text": [
      "t-test statistic: 11.89329903087671\n",
      "p-value: 4.461230231620972e-31\n"
     ]
    }
   ],
   "source": [
    "t_test_statistic = (\n",
    "    (x_i - x_u)\n",
    "    /\n",
    "    (pooled_std * np.sqrt(1/n_i + 1/n_u))\n",
    ")\n",
    "p_val = 2 * t.sf(t_test_statistic, df=n_i + n_u - 2)\n",
    "print(f't-test statistic: {t_test_statistic}\\np-value: {p_val}')"
   ]
  },
  {
   "cell_type": "markdown",
   "metadata": {},
   "source": [
    "Perform hypothesis test using `scipy.stats.t_test_ind`. Verify results are identical (to 20 decimal places)."
   ]
  },
  {
   "cell_type": "code",
   "execution_count": 17,
   "metadata": {},
   "outputs": [
    {
     "name": "stdout",
     "output_type": "stream",
     "text": [
      "scipy results:\n",
      "t-test statistic: 11.893299030876712\n",
      "p-value: 4.461230231620717e-31\n"
     ]
    }
   ],
   "source": [
    "scipy_ttest = ttest_ind(insured_charges, uninsured_charges)\n",
    "scipy_t_test_stat = scipy_ttest[0]\n",
    "scipy_p_val = scipy_ttest[1]\n",
    "assert round(scipy_t_test_stat, 20) == round(t_test_statistic, 20)\n",
    "assert round(scipy_p_val, 20) == round(p_val, 20)\n",
    "print(\n",
    "    f'scipy results:\\n'\n",
    "    + f't-test statistic: {scipy_t_test_stat}\\n'\n",
    "    + f'p-value: {scipy_p_val}'\n",
    ")\n"
   ]
  },
  {
   "cell_type": "markdown",
   "metadata": {},
   "source": [
    "Congratulations! Hopefully you got the exact same numerical results. This shows that you correctly calculated the numbers by hand. Secondly, you used the correct function and saw that it's much easier to use. All you need to do is pass your data to it."
   ]
  },
  {
   "cell_type": "markdown",
   "metadata": {},
   "source": [
    "__Q6:__ Conceptual question: look through the documentation for statistical test functions in scipy.stats. You'll see the above _t_-test for a sample, but can you see an equivalent one for performing a *z*-test from a sample? Comment on your answer."
   ]
  },
  {
   "cell_type": "markdown",
   "metadata": {},
   "source": [
    "__A:__"
   ]
  },
  {
   "cell_type": "markdown",
   "metadata": {},
   "source": [
    "There is no equivalent function. Z-tests are used when population parameters are known."
   ]
  },
  {
   "cell_type": "markdown",
   "metadata": {},
   "source": [
    "## Learning outcomes"
   ]
  },
  {
   "cell_type": "markdown",
   "metadata": {},
   "source": [
    "Having completed this project notebook, you now have good hands-on experience:\n",
    "* using the central limit theorem to help you apply frequentist techniques to answer questions that pertain to very non-normally distributed data from the real world\n",
    "* performing inference using such data to answer business questions\n",
    "* forming a hypothesis and framing the null and alternative hypotheses\n",
    "* testing this using a _t_-test"
   ]
  }
 ],
 "metadata": {
  "kernelspec": {
   "display_name": "Python 3 (ipykernel)",
   "language": "python",
   "name": "python3"
  },
  "language_info": {
   "codemirror_mode": {
    "name": "ipython",
    "version": 3
   },
   "file_extension": ".py",
   "mimetype": "text/x-python",
   "name": "python",
   "nbconvert_exporter": "python",
   "pygments_lexer": "ipython3",
   "version": "3.10.4"
  }
 },
 "nbformat": 4,
 "nbformat_minor": 2
}
