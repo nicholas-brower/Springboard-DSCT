{
 "cells": [
  {
   "cell_type": "markdown",
   "metadata": {
    "colab_type": "text",
    "id": "Tia3MP1SJpgj"
   },
   "source": [
    "# Springboard Data Science Career Track Unit 4 Challenge - Tier 3\n",
    "\n",
    "***which boroughs of London have seen the greatest increase in housing prices, on average, over the last two decades?***\n",
    "***"
   ]
  },
  {
   "cell_type": "markdown",
   "metadata": {
    "colab_type": "text",
    "id": "zswDqbefJpgm"
   },
   "source": [
    "### 1. Sourcing and Loading\n",
    "***"
   ]
  },
  {
   "cell_type": "markdown",
   "metadata": {
    "colab_type": "text",
    "id": "aEau5nEvJpgm"
   },
   "source": [
    "#### 1.1. Importing Libraries"
   ]
  },
  {
   "cell_type": "code",
   "execution_count": 1,
   "metadata": {
    "colab": {},
    "colab_type": "code",
    "id": "7Bt_Q_oPJpgn"
   },
   "outputs": [],
   "source": [
    "from textwrap import fill\n",
    "import numpy as np\n",
    "import pandas as pd\n",
    "import matplotlib.pyplot as plt\n"
   ]
  },
  {
   "cell_type": "markdown",
   "metadata": {
    "colab_type": "text",
    "id": "koUrawxsJpgq"
   },
   "source": [
    "#### 1.2.  Loading the data\n",
    "Data comes from the [London Datastore](https://data.london.gov.uk/)"
   ]
  },
  {
   "cell_type": "code",
   "execution_count": 2,
   "metadata": {
    "colab": {},
    "colab_type": "code",
    "id": "AiLiD4v3Jpgr"
   },
   "outputs": [],
   "source": [
    "url_LondonHousePrices = \"https://data.london.gov.uk/download/uk-house-price-index/70ac0766-8902-4eb5-aab5-01951aaed773/UK%20House%20price%20index.xls\" \n",
    "properties = pd.read_excel(\n",
    "    url_LondonHousePrices, sheet_name='Average price', index_col= None\n",
    ")\n"
   ]
  },
  {
   "cell_type": "markdown",
   "metadata": {
    "colab_type": "text",
    "id": "POukEJXgJpgu"
   },
   "source": [
    "### 2. Cleaning, transforming, and visualizing\n",
    "***"
   ]
  },
  {
   "cell_type": "markdown",
   "metadata": {
    "colab_type": "text",
    "id": "Te0Q548tnzZa"
   },
   "source": [
    "**2.1. Exploring your data** "
   ]
  },
  {
   "cell_type": "code",
   "execution_count": 3,
   "metadata": {
    "colab": {},
    "colab_type": "code",
    "id": "Rxirxw_qoAJa"
   },
   "outputs": [
    {
     "name": "stdout",
     "output_type": "stream",
     "text": [
      "shape:\n",
      " (327, 49)\n",
      "_______________________________________________________________________________\n",
      "\n",
      "\n",
      "first three:\n",
      "   Unnamed: 0 City of London Barking & Dagenham       Barnet       Bexley  \\\n",
      "0        NaT      E09000001          E09000002    E09000003    E09000004   \n",
      "1 1995-01-01    91448.98487         50460.2266  93284.51832  64958.09036   \n",
      "2 1995-02-01    82202.77314        51085.77983  93190.16963  64787.92069   \n",
      "\n",
      "         Brent      Bromley       Camden      Croydon       Ealing  ...  \\\n",
      "0    E09000005    E09000006    E09000007    E09000008    E09000009  ...   \n",
      "1  71306.56698  81671.47692  120932.8881  69158.16225  79885.89069  ...   \n",
      "2  72022.26197  81657.55944  119508.8622  68951.09542  80897.06551  ...   \n",
      "\n",
      "    NORTH WEST YORKS & THE HUMBER EAST MIDLANDS WEST MIDLANDS EAST OF ENGLAND  \\\n",
      "0    E12000002          E12000003     E12000004     E12000005       E12000006   \n",
      "1  43958.48001        44803.42878   45544.52227   48527.52339      56701.5961   \n",
      "2  43925.42289        44528.80721   46051.57066   49341.29029     56593.59475   \n",
      "\n",
      "        LONDON   SOUTH EAST   SOUTH WEST Unnamed: 47      England  \n",
      "0    E12000007    E12000008    E12000009         NaN    E92000001  \n",
      "1  74435.76052  64018.87894   54705.1579         NaN  53202.77128  \n",
      "2  72777.93709  63715.02399  54356.14843         NaN   53096.1549  \n",
      "\n",
      "[3 rows x 49 columns]\n",
      "_______________________________________________________________________________\n",
      "\n",
      "\n",
      "columns:\n",
      "Index(['Unnamed: 0', 'City of London', 'Barking & Dagenham', 'Barnet',\n",
      "       'Bexley', 'Brent', 'Bromley', 'Camden', 'Croydon', 'Ealing', 'Enfield',\n",
      "       'Greenwich', 'Hackney', 'Hammersmith & Fulham', 'Haringey', 'Harrow',\n",
      "       'Havering', 'Hillingdon', 'Hounslow', 'Islington',\n",
      "       'Kensington & Chelsea', 'Kingston upon Thames', 'Lambeth', 'Lewisham',\n",
      "       'Merton', 'Newham', 'Redbridge', 'Richmond upon Thames', 'Southwark',\n",
      "       'Sutton', 'Tower Hamlets', 'Waltham Forest', 'Wandsworth',\n",
      "       'Westminster', 'Unnamed: 34', 'Inner London', 'Outer London',\n",
      "       'Unnamed: 37', 'NORTH EAST', 'NORTH WEST', 'YORKS & THE HUMBER',\n",
      "       'EAST MIDLANDS', 'WEST MIDLANDS', 'EAST OF ENGLAND', 'LONDON',\n",
      "       'SOUTH EAST', 'SOUTH WEST', 'Unnamed: 47', 'England'],\n",
      "      dtype='object')\n",
      "_______________________________________________________________________________\n",
      "\n",
      "\n",
      "index:\n",
      "RangeIndex(start=0, stop=327, step=1)\n",
      "_______________________________________________________________________________\n",
      "\n",
      "\n"
     ]
    }
   ],
   "source": [
    "for _ in [\n",
    "        f'shape:\\n {properties.shape}', f'first three:\\n {properties.head(3)}',\n",
    "        f'columns:\\n{properties.columns}', f'index:\\n{properties.index}']:\n",
    "    print(f'{_}\\n{79 * \"_\"}\\n\\n')\n",
    "    "
   ]
  },
  {
   "cell_type": "markdown",
   "metadata": {
    "colab_type": "text",
    "id": "tE9Sqt9-oAta"
   },
   "source": [
    "**2.2. Cleaning the data**\n",
    "\n",
    "Transposing, renaming columns, and resetting index"
   ]
  },
  {
   "cell_type": "code",
   "execution_count": 4,
   "metadata": {
    "colab": {},
    "colab_type": "code",
    "id": "cdAu1A3YoH_r"
   },
   "outputs": [],
   "source": [
    "ldn_df = properties.transpose()\n",
    "ldn_df = ldn_df[1:].rename(\n",
    "    columns = dict(\n",
    "        list(zip(range(1, len(ldn_df.columns)), ldn_df.iloc[0, 1:]))\n",
    "        + [(0, 'postcode')]\n",
    "    )\n",
    ")\n",
    "ldn_df.reset_index(inplace = True)"
   ]
  },
  {
   "cell_type": "markdown",
   "metadata": {
    "colab_type": "text",
    "id": "o1uLbJAsoIjK"
   },
   "source": [
    "**2.3. Cleaning the data (part 2)**"
   ]
  },
  {
   "cell_type": "code",
   "execution_count": 5,
   "metadata": {
    "colab": {},
    "colab_type": "code",
    "id": "GKkmn1AnoVZS"
   },
   "outputs": [],
   "source": [
    "ldn_df.rename(columns = {'index': 'borough'}, inplace = True)\n",
    "ldn_df.set_index(['borough', 'postcode'], inplace = True)"
   ]
  },
  {
   "cell_type": "markdown",
   "metadata": {
    "colab_type": "text",
    "id": "jy8BzXHmoWEw"
   },
   "source": [
    "**2.4.Transforming the data**\n",
    "\n",
    "Melting"
   ]
  },
  {
   "cell_type": "code",
   "execution_count": 6,
   "metadata": {
    "colab": {},
    "colab_type": "code",
    "id": "S2wM0qLuo2Zt"
   },
   "outputs": [
    {
     "name": "stdout",
     "output_type": "stream",
     "text": [
      "                                yyyy_mm average_price\n",
      "borough            postcode                          \n",
      "City of London     E09000001 1995-01-01   91448.98487\n",
      "Barking & Dagenham E09000002 1995-01-01    50460.2266\n",
      "Barnet             E09000003 1995-01-01   93284.51832\n",
      "Bexley             E09000004 1995-01-01   64958.09036\n",
      "Brent              E09000005 1995-01-01   71306.56698\n"
     ]
    }
   ],
   "source": [
    "ldn_df = ldn_df.melt(\n",
    "    var_name = 'yyyy_mm', value_name = 'average_price', \n",
    "    ignore_index = False\n",
    ")\n",
    "print(ldn_df.head())"
   ]
  },
  {
   "cell_type": "markdown",
   "metadata": {
    "colab_type": "text",
    "id": "7kIsgAo7o3mf"
   },
   "source": [
    "Enforcing data types on each column"
   ]
  },
  {
   "cell_type": "code",
   "execution_count": 7,
   "metadata": {
    "colab": {},
    "colab_type": "code",
    "id": "ZcR4IHbcpOaq"
   },
   "outputs": [
    {
     "name": "stdout",
     "output_type": "stream",
     "text": [
      "Column              Type\n",
      "_______________________________________________________________________________\n",
      "yyyy_mm:            datetime64[ns]\n",
      "average_price:      float64\n"
     ]
    }
   ],
   "source": [
    "ldn_df = ldn_df.astype(\n",
    "    {'yyyy_mm': 'datetime64', 'average_price': 'float'}\n",
    ")\n",
    "print('Column'.ljust(20) + f'Type\\n{79*\"_\"}')\n",
    "for col in ldn_df.columns:\n",
    "    print(f'{(col + \":\").ljust(20)}{ldn_df[col].dtypes}')"
   ]
  },
  {
   "cell_type": "markdown",
   "metadata": {},
   "source": [
    "Adding a year and month column from existing date information"
   ]
  },
  {
   "cell_type": "code",
   "execution_count": 8,
   "metadata": {},
   "outputs": [],
   "source": [
    "ldn_df['month'] = ldn_df.yyyy_mm.dt.month\n",
    "ldn_df['year'] = ldn_df.yyyy_mm.dt.year"
   ]
  },
  {
   "cell_type": "markdown",
   "metadata": {
    "colab_type": "text",
    "id": "knLUXHLypOtw"
   },
   "source": [
    "**2.5. Cleaning the data (part 3)**\n",
    "\n",
    "Removing nulls, sorting by index, and checking the list of boroughs"
   ]
  },
  {
   "cell_type": "code",
   "execution_count": 9,
   "metadata": {
    "colab": {},
    "colab_type": "code",
    "id": "BnvTW5a3p0fC"
   },
   "outputs": [
    {
     "name": "stdout",
     "output_type": "stream",
     "text": [
      "Boroughs in ldn_df.index\n",
      "_______________________________________________________________________________\n",
      "Barking & Dagenham, Barnet, Bexley, Brent, Bromley, Camden, City of\n",
      "London, Croydon, EAST MIDLANDS, EAST OF ENGLAND, Ealing, Enfield,\n",
      "England, Greenwich, Hackney, Hammersmith & Fulham, Haringey, Harrow,\n",
      "Havering, Hillingdon, Hounslow, Inner London, Islington, Kensington &\n",
      "Chelsea, Kingston upon Thames, LONDON, Lambeth, Lewisham, Merton,\n",
      "NORTH EAST, NORTH WEST, Newham, Outer London, Redbridge, Richmond upon\n",
      "Thames, SOUTH EAST, SOUTH WEST, Southwark, Sutton, Tower Hamlets, WEST\n",
      "MIDLANDS, Waltham Forest, Wandsworth, Westminster, YORKS & THE HUMBER\n"
     ]
    }
   ],
   "source": [
    "ldn_df.dropna(inplace = True)\n",
    "ldn_df.sort_index(inplace = True)\n",
    "print(f'Boroughs in ldn_df.index\\n{79*\"_\"}')\n",
    "print(fill(', '.join([_[0] for _ in pd.unique(ldn_df.index)])))"
   ]
  },
  {
   "cell_type": "markdown",
   "metadata": {},
   "source": [
    "**2.5**\n",
    "\n",
    "Confining the dataset to rows with a borough matching the list of boroughs available on Wikipedia https://en.wikipedia.org/wiki/London_boroughs#List"
   ]
  },
  {
   "cell_type": "code",
   "execution_count": 10,
   "metadata": {},
   "outputs": [],
   "source": [
    "london_boroughs = [\n",
    "    'Barking & Dagenham', 'Barnet', 'Bexley', 'Brent', 'Bromley', 'Camden', \n",
    "    'City of London', 'Croydon', 'Ealing', 'Enfield', 'Greenwich', 'Hackney', \n",
    "    'Hammersmith & Fulham', 'Haringey', 'Harrow', 'Havering', 'Hillingdon', \n",
    "    'Hounslow', 'Islington', 'Kensington & Chelsea', 'Kingston upon Thames', \n",
    "    'Lambeth', 'Lewisham', 'Merton', 'Newham', 'Redbridge', \n",
    "    'Richmond upon Thames', 'Southwark', 'Sutton', 'Tower Hamlets', \n",
    "    'Waltham Forest', 'Wandsworth', 'Westminster'\n",
    "] # list from wikipedia\n",
    "ldn_df = ldn_df[ldn_df.index.isin(london_boroughs, level = 'borough')]"
   ]
  },
  {
   "cell_type": "markdown",
   "metadata": {
    "colab_type": "text",
    "id": "PGEx6mJsp6dG"
   },
   "source": [
    "**2.6. Visualizing the data**\n",
    "\n",
    "Plotting a borough's average housing price over time"
   ]
  },
  {
   "cell_type": "code",
   "execution_count": 11,
   "metadata": {
    "colab": {},
    "colab_type": "code",
    "id": "nAg5pT9cqHAR"
   },
   "outputs": [
    {
     "data": {
      "image/png": "[encoded data removed]",
      "text/plain": [
       "<Figure size 432x288 with 1 Axes>"
      ]
     },
     "metadata": {
      "needs_background": "light"
     },
     "output_type": "display_data"
    }
   ],
   "source": [
    "ldn_df.loc[('Bexley', 'E09000004')].plot(\n",
    "    x = 'yyyy_mm', y = 'average_price', legend = None\n",
    ")\n",
    "plt.xlabel('Date')\n",
    "plt.ylabel('Average Price')\n",
    "plt.title(\n",
    "    f'Average Price of Housing in Bexley\\n'\n",
    "    + f'{min(ldn_df.year)} to {max(ldn_df.year)}'\n",
    ")\n",
    "plt.show();"
   ]
  },
  {
   "cell_type": "markdown",
   "metadata": {},
   "source": [
    "Grouping by borough and year to calculate annual average prices"
   ]
  },
  {
   "cell_type": "code",
   "execution_count": 12,
   "metadata": {
    "colab": {},
    "colab_type": "code",
    "id": "e0DF92cyqnu8"
   },
   "outputs": [
    {
     "name": "stdout",
     "output_type": "stream",
     "text": [
      "                    year  average_price\n",
      "borough                                \n",
      "Barking & Dagenham  1995   51817.969390\n",
      "Barking & Dagenham  1996   51718.192690\n",
      "Barking & Dagenham  1997   55974.262309\n",
      "Barking & Dagenham  1998   60285.821083\n",
      "Barking & Dagenham  1999   65320.934441\n"
     ]
    }
   ],
   "source": [
    "avg_annual_price_by_borough = (\n",
    "    ldn_df.groupby(by = ['borough', 'year']).agg({'average_price': np.mean})\n",
    ") # average of monthly average prices for each year for each borough\n",
    "avg_annual_price_by_borough.reset_index(inplace = True)\n",
    "avg_annual_price_by_borough.set_index('borough', inplace = True)\n",
    "print(avg_annual_price_by_borough.head())"
   ]
  },
  {
   "cell_type": "markdown",
   "metadata": {
    "colab_type": "text",
    "id": "2knuTxAEqoJ4"
   },
   "source": [
    "### 3. Modeling\n",
    "***"
   ]
  },
  {
   "cell_type": "code",
   "execution_count": 13,
   "metadata": {
    "colab": {},
    "colab_type": "code",
    "id": "cKTyr437UgDa"
   },
   "outputs": [],
   "source": [
    "def price_ratio(\n",
    "        borough: str, df: pd.DataFrame = avg_annual_price_by_borough,\n",
    "        year_col: str = 'year', price_col: str = 'average_price',\n",
    "        year_1: int = 1998, year_2: int = 2018) -> float:\n",
    "    '''For a given London borough, return annual average housing cost\n",
    "    for year_2 divided by that of year_1'''\n",
    "    subset = df.loc[borough]\n",
    "    avg_annual = lambda y: (\n",
    "        float(subset[subset[year_col] == y][price_col])\n",
    "    )\n",
    "    return avg_annual(year_2) / avg_annual(year_1)"
   ]
  },
  {
   "cell_type": "code",
   "execution_count": 14,
   "metadata": {},
   "outputs": [
    {
     "name": "stdout",
     "output_type": "stream",
     "text": [
      "Borough                 | Ratio (2018 average / 1998 average)\n",
      "_______________________________________________________________________________\n",
      "Hackney                 | 6.2\n",
      "Waltham Forest          | 5.83\n",
      "Southwark               | 5.52\n",
      "Lewisham                | 5.45\n",
      "Westminster             | 5.35\n",
      "Newham                  | 5.31\n",
      "City of London          | 5.3\n",
      "Haringey                | 5.13\n",
      "Kensington & Chelsea    | 5.08\n",
      "Lambeth                 | 4.96\n",
      "Camden                  | 4.94\n",
      "Barking & Dagenham      | 4.9\n",
      "Brent                   | 4.89\n",
      "Islington               | 4.84\n",
      "Greenwich               | 4.76\n",
      "Wandsworth              | 4.76\n",
      "Merton                  | 4.74\n",
      "Tower Hamlets           | 4.63\n",
      "Redbridge               | 4.47\n",
      "Barnet                  | 4.36\n",
      "Havering                | 4.33\n",
      "Ealing                  | 4.31\n",
      "Kingston upon Thames    | 4.27\n",
      "Enfield                 | 4.26\n",
      "Bexley                  | 4.25\n",
      "Croydon                 | 4.2\n",
      "Hillingdon              | 4.2\n",
      "Hammersmith & Fulham    | 4.14\n",
      "Sutton                  | 4.12\n",
      "Bromley                 | 4.09\n",
      "Harrow                  | 4.06\n",
      "Richmond upon Thames    | 4.01\n",
      "Hounslow                | 3.98\n"
     ]
    }
   ],
   "source": [
    "price_ratios = [(bor, price_ratio(bor)) for bor in london_boroughs]\n",
    "price_ratios.sort(key = lambda _: _[1], reverse = True)\n",
    "price_ratios = dict(price_ratios)\n",
    "text_l = lambda t: str(t).ljust(len(max(london_boroughs, key = len)) + 4)\n",
    "print(f'{text_l(\"Borough\")}| Ratio (2018 average / 1998 average)')\n",
    "print(79*'_')\n",
    "for borough, ratio in price_ratios.items():\n",
    "    print(f'{text_l(borough)}| {round(ratio, 2)}')"
   ]
  },
  {
   "cell_type": "code",
   "execution_count": 15,
   "metadata": {},
   "outputs": [
    {
     "name": "stdout",
     "output_type": "stream",
     "text": [
      "The borough with the highest increase in annual average housing cost\n",
      "from 1998 to 2018 is Hackney.  For this borough, the average cost of\n",
      "housing in 2018 was 619.83% of that in 1998.\n"
     ]
    }
   ],
   "source": [
    "borough_w_highest = max(price_ratios, key = price_ratios.get)\n",
    "highest_ratio = price_ratios[borough_w_highest]\n",
    "summary_text = ' '.join([\n",
    "    f'The borough with the highest increase in annual average housing',\n",
    "    f'cost from 1998 to 2018 is {borough_w_highest}.\\n',\n",
    "    f'For this borough, the average cost of housing in 2018 was',\n",
    "    f'{round(highest_ratio * 100, 2)}% of that in 1998.'])\n",
    "print(fill(summary_text))"
   ]
  },
  {
   "cell_type": "markdown",
   "metadata": {
    "colab_type": "text",
    "id": "NzYUI7FxJpgv"
   },
   "source": [
    "### 4. Conclusion\n",
    "***\n",
    "Absent other metrics, few conclusions can be drawn from this analysis. Correlating this information with other datasets over the relevant time period might yield more useful insights, but such efforts likely exceed the intended scope of this project. My domain knowledge is insufficient to infer anything beyond what is already displayed above."
   ]
  },
  {
   "cell_type": "markdown",
   "metadata": {},
   "source": [
    "Comparing changes in average housing prices to changes in UK consumer price index. Values are listed relative to 2010 (the consumer price index of 2010 is 100).\n",
    "\n",
    "Conusmer Price Index values sourced from \n",
    "https://data.worldbank.org/indicator/FP.CPI.TOTL?end=2018&locations=GB&start=1998\n"
   ]
  },
  {
   "cell_type": "code",
   "execution_count": 16,
   "metadata": {},
   "outputs": [
    {
     "name": "stdout",
     "output_type": "stream",
     "text": [
      "Borough                 | CPI-adjusted Ratio\n",
      "                        | (2018 average / 1998 averagee - 2018 CPI / 1998 CPI)\n",
      "_______________________________________________________________________________\n",
      "Hackney                 | 4.71\n",
      "Waltham Forest          | 4.35\n",
      "Southwark               | 4.03\n",
      "Lewisham                | 3.96\n",
      "Westminster             | 3.87\n",
      "Newham                  | 3.82\n",
      "City of London          | 3.82\n",
      "Haringey                | 3.65\n",
      "Kensington & Chelsea    | 3.6\n",
      "Lambeth                 | 3.47\n",
      "Camden                  | 3.45\n",
      "Barking & Dagenham      | 3.41\n",
      "Brent                   | 3.41\n",
      "Islington               | 3.36\n",
      "Greenwich               | 3.28\n",
      "Wandsworth              | 3.27\n",
      "Merton                  | 3.26\n",
      "Tower Hamlets           | 3.14\n",
      "Redbridge               | 2.99\n",
      "Barnet                  | 2.87\n",
      "Havering                | 2.84\n",
      "Ealing                  | 2.83\n",
      "Kingston upon Thames    | 2.78\n",
      "Enfield                 | 2.78\n",
      "Bexley                  | 2.76\n",
      "Croydon                 | 2.72\n",
      "Hillingdon              | 2.71\n",
      "Hammersmith & Fulham    | 2.65\n",
      "Sutton                  | 2.63\n",
      "Bromley                 | 2.61\n",
      "Harrow                  | 2.57\n",
      "Richmond upon Thames    | 2.52\n",
      "Hounslow                | 2.49\n"
     ]
    }
   ],
   "source": [
    "uk_cpi_1998 = 79.1289069724\n",
    "uk_cpi_2018 = 117.5790641761\n",
    "\n",
    "cpi_ratio = uk_cpi_2018/uk_cpi_1998\n",
    "cpi_adjusted_ratios = {bor: ratio - cpi_ratio for bor, ratio in price_ratios.items()}\n",
    "\n",
    "print(f'{text_l(\"Borough\")}| CPI-adjusted Ratio')\n",
    "print(f'{text_l(\"\")}| (2018 average / 1998 averagee - 2018 CPI / 1998 CPI)')\n",
    "print(79*'_')\n",
    "for borough, ratio in cpi_adjusted_ratios.items():\n",
    "    print(f'{text_l(borough)}| {round(ratio, 2)}')\n"
   ]
  },
  {
   "cell_type": "markdown",
   "metadata": {},
   "source": [
    "The average prices for housing in all London boroughs increased much more than the UK consumer price index over the period of interest. This suggests an overall decline in housing affordability for the city. The consumer price index ratio is subtracted from the average housing price ratios calculated earlier in the table above. Below, a bar plot depicts the 10 highest (unadjusted) price ratios for London boroughs."
   ]
  },
  {
   "cell_type": "code",
   "execution_count": 17,
   "metadata": {},
   "outputs": [
    {
     "data": {
      "image/png": "[encoded data removed]",
      "text/plain": [
       "<Figure size 432x288 with 1 Axes>"
      ]
     },
     "metadata": {
      "needs_background": "light"
     },
     "output_type": "display_data"
    }
   ],
   "source": [
    "top_10 = dict((list(price_ratios.items())[:10]))\n",
    "plt.bar(range(10), height = top_10.values(), tick_label = list(top_10.keys()))\n",
    "plt.xticks(rotation = 30, ha = 'right')\n",
    "plt.xlabel('Borough')\n",
    "plt.ylabel('Average Price Ratio')\n",
    "plt.title(\n",
    "    '2018 Average Housing Prices for London Boroughs'\n",
    "    +'\\nas a Ratio of 1998 Averages')\n",
    "plt.show();"
   ]
  }
 ],
 "metadata": {
  "colab": {
   "collapsed_sections": [],
   "name": "Springboard Data Science Career Track Unit 4 Challenge - Tier 3 Complete .ipynb",
   "provenance": []
  },
  "kernelspec": {
   "display_name": "Python 3 (ipykernel)",
   "language": "python",
   "name": "python3"
  },
  "language_info": {
   "codemirror_mode": {
    "name": "ipython",
    "version": 3
   },
   "file_extension": ".py",
   "mimetype": "text/x-python",
   "name": "python",
   "nbconvert_exporter": "python",
   "pygments_lexer": "ipython3",
   "version": "3.9.7"
  }
 },
 "nbformat": 4,
 "nbformat_minor": 1
}
