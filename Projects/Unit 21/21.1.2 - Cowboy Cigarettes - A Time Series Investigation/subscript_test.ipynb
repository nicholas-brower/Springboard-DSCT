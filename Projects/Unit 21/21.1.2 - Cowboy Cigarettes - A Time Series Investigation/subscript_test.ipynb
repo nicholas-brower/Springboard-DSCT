{
 "cells": [
  {
   "cell_type": "code",
   "execution_count": 4,
   "id": "eafe307f",
   "metadata": {},
   "outputs": [],
   "source": [
    "subscript_chr_num = [8320, 8321, 8322, 8323, 8324, 8325, 8326, 8327, 8328, 8329]"
   ]
  },
  {
   "cell_type": "code",
   "execution_count": 6,
   "id": "bf5ceb1c",
   "metadata": {},
   "outputs": [
    {
     "name": "stdout",
     "output_type": "stream",
     "text": [
      "0  8320: ₀\n",
      "1  8321: ₁\n",
      "2  8322: ₂\n",
      "3  8323: ₃\n",
      "4  8324: ₄\n",
      "5  8325: ₅\n",
      "6  8326: ₆\n",
      "7  8327: ₇\n",
      "8  8328: ₈\n",
      "9  8329: ₉\n"
     ]
    }
   ],
   "source": [
    "for i, num in enumerate(subscript_chr_num):\n",
    "    print(f'{i:<2} {num:<2}: {chr(num)}')"
   ]
  },
  {
   "cell_type": "code",
   "execution_count": null,
   "id": "eb53fa7a",
   "metadata": {},
   "outputs": [],
   "source": []
  }
 ],
 "metadata": {
  "kernelspec": {
   "display_name": "Python 3 (ipykernel)",
   "language": "python",
   "name": "python3"
  },
  "language_info": {
   "codemirror_mode": {
    "name": "ipython",
    "version": 3
   },
   "file_extension": ".py",
   "mimetype": "text/x-python",
   "name": "python",
   "nbconvert_exporter": "python",
   "pygments_lexer": "ipython3",
   "version": "3.10.4"
  }
 },
 "nbformat": 4,
 "nbformat_minor": 5
}
