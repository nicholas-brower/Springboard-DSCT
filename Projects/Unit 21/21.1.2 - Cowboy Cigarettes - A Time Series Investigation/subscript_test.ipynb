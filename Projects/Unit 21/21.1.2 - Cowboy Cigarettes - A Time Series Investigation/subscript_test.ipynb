{
 "cells": [
  {
   "cell_type": "code",
   "execution_count": 1,
   "id": "ecbb7f11",
   "metadata": {},
   "outputs": [],
   "source": [
    "import os\n",
    "import sys\n",
    "import pprint\n",
    "import locale\n",
    "import textwrap"
   ]
  },
  {
   "cell_type": "code",
   "execution_count": 2,
   "id": "0edec9bc",
   "metadata": {},
   "outputs": [],
   "source": [
    "def s_fill(s:str, w: int=100, indent: int=0, i_ind: bool=False)->str:\n",
    "    indent = indent * ' '\n",
    "    i_ind = indent if i_ind else ''\n",
    "    return textwrap.fill(s, width=w,  initial_indent=i_ind, subsequent_indent=indent)"
   ]
  },
  {
   "cell_type": "code",
   "execution_count": 3,
   "id": "eafe307f",
   "metadata": {},
   "outputs": [],
   "source": [
    "subscript_chr_num = [8320, 8321, 8322, 8323, 8324, 8325, 8326, 8327, 8328, 8329]"
   ]
  },
  {
   "cell_type": "code",
   "execution_count": 4,
   "id": "bf5ceb1c",
   "metadata": {},
   "outputs": [
    {
     "name": "stdout",
     "output_type": "stream",
     "text": [
      "0  8320: ₀\n",
      "1  8321: ₁\n",
      "2  8322: ₂\n",
      "3  8323: ₃\n",
      "4  8324: ₄\n",
      "5  8325: ₅\n",
      "6  8326: ₆\n",
      "7  8327: ₇\n",
      "8  8328: ₈\n",
      "9  8329: ₉\n"
     ]
    }
   ],
   "source": [
    "for i, num in enumerate(subscript_chr_num):\n",
    "    print(f'{i:<2} {num:<2}: {chr(num)}')"
   ]
  },
  {
   "cell_type": "code",
   "execution_count": 5,
   "id": "574ca9e7",
   "metadata": {},
   "outputs": [
    {
     "data": {
      "text/plain": [
       "'UTF-8'"
      ]
     },
     "execution_count": 5,
     "metadata": {},
     "output_type": "execute_result"
    }
   ],
   "source": [
    "sys.stdout.encoding"
   ]
  },
  {
   "cell_type": "code",
   "execution_count": 6,
   "id": "dbe97646",
   "metadata": {},
   "outputs": [
    {
     "data": {
      "text/plain": [
       "'utf-8'"
      ]
     },
     "execution_count": 6,
     "metadata": {},
     "output_type": "execute_result"
    }
   ],
   "source": [
    "sys.stdin.encoding"
   ]
  },
  {
   "cell_type": "code",
   "execution_count": 7,
   "id": "0f96ca15",
   "metadata": {},
   "outputs": [
    {
     "name": "stdout",
     "output_type": "stream",
     "text": [
      "b'\\xe2\\x82\\x80'\n",
      "b'\\xe2\\x82\\x81'\n",
      "b'\\xe2\\x82\\x82'\n",
      "b'\\xe2\\x82\\x83'\n",
      "b'\\xe2\\x82\\x84'\n",
      "b'\\xe2\\x82\\x85'\n",
      "b'\\xe2\\x82\\x86'\n",
      "b'\\xe2\\x82\\x87'\n",
      "b'\\xe2\\x82\\x88'\n",
      "b'\\xe2\\x82\\x89'\n"
     ]
    }
   ],
   "source": [
    "for num in subscript_chr_num:\n",
    "    print(chr(num).encode())"
   ]
  },
  {
   "cell_type": "code",
   "execution_count": 11,
   "id": "03e9578b",
   "metadata": {},
   "outputs": [
    {
     "name": "stdout",
     "output_type": "stream",
     "text": [
      "₀\n"
     ]
    }
   ],
   "source": [
    "print(b'\\xe2\\x82\\x80'.decode())"
   ]
  },
  {
   "cell_type": "code",
   "execution_count": 10,
   "id": "5703e2eb",
   "metadata": {},
   "outputs": [
    {
     "data": {
      "text/plain": [
       "True"
      ]
     },
     "execution_count": 10,
     "metadata": {},
     "output_type": "execute_result"
    }
   ],
   "source": [
    "'PYTHONUTF8' in os.environ"
   ]
  },
  {
   "cell_type": "code",
   "execution_count": 9,
   "id": "e09e2bbd",
   "metadata": {},
   "outputs": [
    {
     "data": {
      "text/plain": [
       "'1'"
      ]
     },
     "execution_count": 9,
     "metadata": {},
     "output_type": "execute_result"
    }
   ],
   "source": [
    "os.environ.get('PYTHONUTF8', 'failed')"
   ]
  },
  {
   "cell_type": "code",
   "execution_count": 10,
   "id": "bcdf6c57",
   "metadata": {},
   "outputs": [
    {
     "name": "stdout",
     "output_type": "stream",
     "text": [
      "test\n"
     ]
    }
   ],
   "source": [
    "print('test')"
   ]
  },
  {
   "cell_type": "code",
   "execution_count": 15,
   "id": "c4126319",
   "metadata": {},
   "outputs": [
    {
     "data": {
      "text/plain": [
       "'UTF-8'"
      ]
     },
     "execution_count": 15,
     "metadata": {},
     "output_type": "execute_result"
    }
   ],
   "source": [
    "locale.getpreferredencoding()"
   ]
  },
  {
   "cell_type": "code",
   "execution_count": null,
   "id": "2c99600b",
   "metadata": {},
   "outputs": [],
   "source": []
  }
 ],
 "metadata": {
  "kernelspec": {
   "display_name": "Python 3 (ipykernel)",
   "language": "python",
   "name": "python3"
  },
  "language_info": {
   "codemirror_mode": {
    "name": "ipython",
    "version": 3
   },
   "file_extension": ".py",
   "mimetype": "text/x-python",
   "name": "python",
   "nbconvert_exporter": "python",
   "pygments_lexer": "ipython3",
   "version": "3.10.4"
  }
 },
 "nbformat": 4,
 "nbformat_minor": 5
}
