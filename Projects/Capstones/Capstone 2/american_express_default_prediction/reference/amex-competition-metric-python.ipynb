{
 "cells": [
  {
   "cell_type": "code",
   "execution_count": 1,
   "id": "0e85b951",
   "metadata": {
    "_cell_guid": "b1076dfc-b9ad-4769-8c92-a6c4dae69d19",
    "_uuid": "8f2839f25d086af736a60e9eeb907d3b93b6e0e5",
    "execution": {
     "iopub.execute_input": "2022-04-11T19:01:32.588974Z",
     "iopub.status.busy": "2022-04-11T19:01:32.587029Z",
     "iopub.status.idle": "2022-04-11T19:01:32.592012Z",
     "shell.execute_reply": "2022-04-11T19:01:32.591122Z",
     "shell.execute_reply.started": "2022-04-11T18:36:40.81079Z"
    },
    "papermill": {
     "duration": 0.023964,
     "end_time": "2022-04-11T19:01:32.592194",
     "exception": false,
     "start_time": "2022-04-11T19:01:32.568230",
     "status": "completed"
    },
    "tags": []
   },
   "outputs": [],
   "source": [
    "import numpy as np\n",
    "import pandas as pd\n",
    "from pathlib import Path\n",
    "\n",
    "input_path = Path('/kaggle/input/amex-default-prediction/')"
   ]
  },
  {
   "cell_type": "markdown",
   "id": "6c7ad83a",
   "metadata": {
    "papermill": {
     "duration": 0.007817,
     "end_time": "2022-04-11T19:01:32.609942",
     "exception": false,
     "start_time": "2022-04-11T19:01:32.602125",
     "status": "completed"
    },
    "tags": []
   },
   "source": [
    "## Amex Metric\n",
    "\n",
    "This is a python version of the metric for the Amex competition. Additional details can be found on the competition [Evaluation page](https://www.kaggle.com/competitions/amex-default-prediction/overview/evaluation)."
   ]
  },
  {
   "cell_type": "code",
   "execution_count": 2,
   "id": "b3efc75c",
   "metadata": {
    "execution": {
     "iopub.execute_input": "2022-04-11T19:01:32.641884Z",
     "iopub.status.busy": "2022-04-11T19:01:32.640751Z",
     "iopub.status.idle": "2022-04-11T19:01:32.643415Z",
     "shell.execute_reply": "2022-04-11T19:01:32.642724Z",
     "shell.execute_reply.started": "2022-04-11T18:48:30.894327Z"
    },
    "papermill": {
     "duration": 0.025682,
     "end_time": "2022-04-11T19:01:32.643580",
     "exception": false,
     "start_time": "2022-04-11T19:01:32.617898",
     "status": "completed"
    },
    "tags": []
   },
   "outputs": [],
   "source": [
    "def amex_metric(y_true: pd.DataFrame, y_pred: pd.DataFrame) -> float:\n",
    "\n",
    "    def top_four_percent_captured(y_true: pd.DataFrame, y_pred: pd.DataFrame) -> float:\n",
    "        df = (pd.concat([y_true, y_pred], axis='columns')\n",
    "              .sort_values('prediction', ascending=False))\n",
    "        df['weight'] = df['target'].apply(lambda x: 20 if x==0 else 1)\n",
    "        four_pct_cutoff = int(0.04 * df['weight'].sum())\n",
    "        df['weight_cumsum'] = df['weight'].cumsum()\n",
    "        df_cutoff = df.loc[df['weight_cumsum'] <= four_pct_cutoff]\n",
    "        return (df_cutoff['target'] == 1).sum() / (df['target'] == 1).sum()\n",
    "        \n",
    "    def weighted_gini(y_true: pd.DataFrame, y_pred: pd.DataFrame) -> float:\n",
    "        df = (pd.concat([y_true, y_pred], axis='columns')\n",
    "              .sort_values('prediction', ascending=False))\n",
    "        df['weight'] = df['target'].apply(lambda x: 20 if x==0 else 1)\n",
    "        df['random'] = (df['weight'] / df['weight'].sum()).cumsum()\n",
    "        total_pos = (df['target'] * df['weight']).sum()\n",
    "        df['cum_pos_found'] = (df['target'] * df['weight']).cumsum()\n",
    "        df['lorentz'] = df['cum_pos_found'] / total_pos\n",
    "        df['gini'] = (df['lorentz'] - df['random']) * df['weight']\n",
    "        return df['gini'].sum()\n",
    "\n",
    "    def normalized_weighted_gini(y_true: pd.DataFrame, y_pred: pd.DataFrame) -> float:\n",
    "        y_true_pred = y_true.rename(columns={'target': 'prediction'})\n",
    "        return weighted_gini(y_true, y_pred) / weighted_gini(y_true, y_true_pred)\n",
    "\n",
    "    g = normalized_weighted_gini(y_true, y_pred)\n",
    "    d = top_four_percent_captured(y_true, y_pred)\n",
    "\n",
    "    return 0.5 * (g + d)"
   ]
  },
  {
   "cell_type": "markdown",
   "id": "4613e423",
   "metadata": {
    "papermill": {
     "duration": 0.008419,
     "end_time": "2022-04-11T19:01:32.659958",
     "exception": false,
     "start_time": "2022-04-11T19:01:32.651539",
     "status": "completed"
    },
    "tags": []
   },
   "source": [
    "## Simple Benchmark\n",
    "\n",
    "We can create a simple benchark using the average of the feature `P_2` for each customer."
   ]
  },
  {
   "cell_type": "code",
   "execution_count": 3,
   "id": "8d5ff0cc",
   "metadata": {
    "execution": {
     "iopub.execute_input": "2022-04-11T19:01:32.684653Z",
     "iopub.status.busy": "2022-04-11T19:01:32.683683Z",
     "iopub.status.idle": "2022-04-11T19:05:16.518802Z",
     "shell.execute_reply": "2022-04-11T19:05:16.519307Z",
     "shell.execute_reply.started": "2022-04-11T18:43:47.94022Z"
    },
    "papermill": {
     "duration": 223.850953,
     "end_time": "2022-04-11T19:05:16.519552",
     "exception": false,
     "start_time": "2022-04-11T19:01:32.668599",
     "status": "completed"
    },
    "tags": []
   },
   "outputs": [],
   "source": [
    "train_data = pd.read_csv(\n",
    "    input_path / 'train_data.csv',\n",
    "    index_col='customer_ID',\n",
    "    usecols=['customer_ID', 'P_2'])\n",
    "\n",
    "train_labels = pd.read_csv(input_path / 'train_labels.csv', index_col='customer_ID')"
   ]
  },
  {
   "cell_type": "code",
   "execution_count": 4,
   "id": "5bbee1f2",
   "metadata": {
    "execution": {
     "iopub.execute_input": "2022-04-11T19:05:16.544984Z",
     "iopub.status.busy": "2022-04-11T19:05:16.543946Z",
     "iopub.status.idle": "2022-04-11T19:05:18.111019Z",
     "shell.execute_reply": "2022-04-11T19:05:18.110391Z",
     "shell.execute_reply.started": "2022-04-11T18:49:20.01539Z"
    },
    "papermill": {
     "duration": 1.582598,
     "end_time": "2022-04-11T19:05:18.111166",
     "exception": false,
     "start_time": "2022-04-11T19:05:16.528568",
     "status": "completed"
    },
    "tags": []
   },
   "outputs": [],
   "source": [
    "ave_p2 = (train_data\n",
    "          .groupby('customer_ID')\n",
    "          .mean()\n",
    "          .rename(columns={'P_2': 'prediction'}))\n",
    "\n",
    "# Scale the mean P_2 by the max value and take the compliment\n",
    "ave_p2['prediction'] = 1.0 - (ave_p2['prediction'] / ave_p2['prediction'].max())"
   ]
  },
  {
   "cell_type": "code",
   "execution_count": 5,
   "id": "1108a4ab",
   "metadata": {
    "execution": {
     "iopub.execute_input": "2022-04-11T19:05:18.273700Z",
     "iopub.status.busy": "2022-04-11T19:05:18.131424Z",
     "iopub.status.idle": "2022-04-11T19:05:19.698903Z",
     "shell.execute_reply": "2022-04-11T19:05:19.699806Z",
     "shell.execute_reply.started": "2022-04-11T18:49:26.34457Z"
    },
    "papermill": {
     "duration": 1.581059,
     "end_time": "2022-04-11T19:05:19.700059",
     "exception": false,
     "start_time": "2022-04-11T19:05:18.119000",
     "status": "completed"
    },
    "tags": []
   },
   "outputs": [
    {
     "name": "stdout",
     "output_type": "stream",
     "text": [
      "0.5727729219880231\n"
     ]
    }
   ],
   "source": [
    "print(amex_metric(train_labels, ave_p2)) # 0.572773"
   ]
  }
 ],
 "metadata": {
  "kernelspec": {
   "display_name": "Python 3 (ipykernel)",
   "language": "python",
   "name": "python3"
  },
  "language_info": {
   "codemirror_mode": {
    "name": "ipython",
    "version": 3
   },
   "file_extension": ".py",
   "mimetype": "text/x-python",
   "name": "python",
   "nbconvert_exporter": "python",
   "pygments_lexer": "ipython3",
   "version": "3.10.4"
  },
  "papermill": {
   "default_parameters": {},
   "duration": 238.136576,
   "end_time": "2022-04-11T19:05:20.420918",
   "environment_variables": {},
   "exception": null,
   "input_path": "__notebook__.ipynb",
   "output_path": "__notebook__.ipynb",
   "parameters": {},
   "start_time": "2022-04-11T19:01:22.284342",
   "version": "2.3.3"
  }
 },
 "nbformat": 4,
 "nbformat_minor": 5
}
